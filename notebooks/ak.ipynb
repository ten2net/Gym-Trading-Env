{
 "cells": [
  {
   "cell_type": "code",
   "execution_count": 20,
   "metadata": {},
   "outputs": [
    {
     "name": "stdout",
     "output_type": "stream",
     "text": [
      "887.9023307436182\n",
      "800\n",
      "800\n"
     ]
    }
   ],
   "source": [
    "position =0.8\n",
    "value = 10000\n",
    "price =9.01\n",
    "\n",
    "import math\n",
    "\n",
    "# 1. 计算目标持仓的资产数量\n",
    "target_asset = (position * value) / price\n",
    "print(target_asset)\n",
    "# 2. 四舍五入到最近的100的整数倍\n",
    "adjusted_asset = math.floor(target_asset / 100) * 100\n",
    "print(adjusted_asset)\n",
    "\n",
    "max_affordable_units = round((position * value // (price * 100)) * 100)\n",
    "print(max_affordable_units)\n",
    "\n",
    "# # 3. 计算最大可承受的100倍数资产（防止资金不足）\n",
    "# max_affordable_units = (value // (price * 100)) * 100\n",
    "# adjusted_asset = min(adjusted_asset, max_affordable_units)"
   ]
  },
  {
   "cell_type": "code",
   "execution_count": 38,
   "metadata": {},
   "outputs": [
    {
     "data": {
      "text/plain": [
       "-300"
      ]
     },
     "execution_count": 38,
     "metadata": {},
     "output_type": "execute_result"
    }
   ],
   "source": [
    "asset_trade = -220\n",
    "# asset_trade = max(0, (int(asset_trade) // 100) * 100) if asset_trade >0 else  -max(0, (int(-asset_trade) // 100) * 100)\n",
    "asset_trade =round(asset_trade // 100 * 100) if asset_trade >0 else round(asset_trade // 100 * 100)\n",
    "asset_trade"
   ]
  },
  {
   "cell_type": "code",
   "execution_count": 44,
   "metadata": {},
   "outputs": [
    {
     "name": "stdout",
     "output_type": "stream",
     "text": [
      "-200 -200\n"
     ]
    }
   ],
   "source": [
    "asset_trade = -102\n",
    "asset_trade = round(asset_trade // 100 * 100) \n",
    "asset_trade2 = int(asset_trade // 100) * 100  # 向下取整到最近的100\n",
    "print(asset_trade,asset_trade2)"
   ]
  },
  {
   "cell_type": "code",
   "execution_count": 54,
   "metadata": {},
   "outputs": [
    {
     "name": "stdout",
     "output_type": "stream",
     "text": [
      "990.1485222783417 990.1485000000001\n"
     ]
    }
   ],
   "source": [
    "asset_trade =100\n",
    "price =9.9\n",
    "trading_fees =1.5 / 10000\n",
    "required_fiat = (asset_trade * price) / (1 - trading_fees)\n",
    "required_fiat2 = asset_trade * price * (1 + trading_fees)\n",
    "print(required_fiat,required_fiat2)"
   ]
  },
  {
   "cell_type": "code",
   "execution_count": 57,
   "metadata": {},
   "outputs": [
    {
     "name": "stdout",
     "output_type": "stream",
     "text": [
      "-200 -200\n"
     ]
    }
   ],
   "source": [
    "import math\n",
    "asset_trade =-151\n",
    "asset_trade_round =round(asset_trade // 100 * 100) \n",
    "asset_trade_floor =math.floor(asset_trade // 100 * 100) \n",
    "print(asset_trade_round,asset_trade_floor)"
   ]
  },
  {
   "cell_type": "code",
   "execution_count": null,
   "metadata": {},
   "outputs": [],
   "source": []
  }
 ],
 "metadata": {
  "kernelspec": {
   "display_name": "rl3123",
   "language": "python",
   "name": "python3"
  },
  "language_info": {
   "codemirror_mode": {
    "name": "ipython",
    "version": 3
   },
   "file_extension": ".py",
   "mimetype": "text/x-python",
   "name": "python",
   "nbconvert_exporter": "python",
   "pygments_lexer": "ipython3",
   "version": "3.12.3"
  }
 },
 "nbformat": 4,
 "nbformat_minor": 2
}
